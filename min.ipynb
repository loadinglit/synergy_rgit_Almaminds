{
 "cells": [
  {
   "cell_type": "code",
   "execution_count": null,
   "metadata": {},
   "outputs": [],
   "source": [
    "from twelvelabs import TwelveLabs\n",
    "import os\n",
    "from glob import glob\n",
    "from twelvelabs.models.task import Task\n",
    "from twelvelabs import APIStatusError\n",
    "from dotenv import load_dotenv\n",
    "\n",
    "# Load environment variables from .env file\n",
    "load_dotenv()\n",
    "\n",
    "api_key = os.getenv('TL_API_KEY')\n",
    "if not api_key:\n",
    "    raise ValueError(\"TL_API_KEY environment variable not set\")\n",
    "\n",
    "client = TwelveLabs(api_key=api_key)"
   ]
  },
  {
   "cell_type": "code",
   "execution_count": null,
   "metadata": {},
   "outputs": [],
   "source": [
    "models = [\n",
    "        {\n",
    "          \"name\": \"marengo2.7\",\n",
    "          \"options\": [\"visual\", \"audio\"]\n",
    "        },\n",
    "        {\n",
    "            \"name\": \"pegasus1.2\",\n",
    "            \"options\": [\"visual\", \"audio\"]\n",
    "        }\n",
    "    ]\n"
   ]
  },
  {
   "cell_type": "code",
   "execution_count": null,
   "metadata": {},
   "outputs": [],
   "source": [
    "index = client.index.create(\n",
    "  name=\"my-index\",\n",
    "  models=models,\n",
    "  addons=[\"thumbnail\"] # Optional\n",
    ")\n",
    "print(f\"A new index has been created: id={index.id} name={index.name} models={index.models}\")\n"
   ]
  },
  {
   "cell_type": "code",
   "execution_count": null,
   "metadata": {},
   "outputs": [],
   "source": [
    "task = client.task.create(\n",
    "  index_id=\"67d938f001d86e6384d99851\",\n",
    "  file=\"videos/video.mp4\",\n",
    ")\n",
    "print(f\"Task id={task.id}, Video id={task.video_id}\")\n"
   ]
  },
  {
   "cell_type": "code",
   "execution_count": null,
   "metadata": {},
   "outputs": [],
   "source": [
    "# Utility function to print the status of a video indexing task\n",
    "def on_task_update(task: Task):\n",
    "    print(f\"  Status={task.status}\")\n",
    "\n",
    "task.wait_for_done(sleep_interval=5, callback=on_task_update)\n",
    "\n",
    "if task.status != \"ready\":\n",
    "    raise RuntimeError(f\"Indexing failed with status {task.status}\")\n",
    "print(f\"The unique identifer of your video is {task.video_id}.\")\n"
   ]
  },
  {
   "cell_type": "code",
   "execution_count": null,
   "metadata": {},
   "outputs": [],
   "source": [
    "!pip install ffmpeg"
   ]
  },
  {
   "cell_type": "code",
   "execution_count": null,
   "metadata": {},
   "outputs": [],
   "source": [
    "import os\n",
    "import subprocess\n",
    "\n",
    "# Get all videos in an Index\n",
    "videos = client.index.video.list(index.id)\n",
    "for video in videos:\n",
    "    print(f\"Processing video {video.id}\")\n",
    "    \n",
    "    # Get video file path (you'll need to adjust this based on how you access the actual files)\n",
    "    video_path = f\"videos/video.mp4\"  # Adjust this path as needed\n",
    "    \n",
    "    if not os.path.exists(video_path):\n",
    "        print(f\"Video file not found for {video.id}\")\n",
    "        continue\n",
    "    \n",
    "    # Create output directory for trimmed highlights\n",
    "    output_dir = f\"highlights/{video.id}\"\n",
    "    os.makedirs(output_dir, exist_ok=True)\n",
    "    \n",
    "    # Get highlights for the video\n",
    "    print(\"Extracting highlights and trimming video:\")\n",
    "    res = client.generate.summarize(video_id=video.id, type=\"highlight\")\n",
    "    \n",
    "    # Process each highlight\n",
    "    for i, highlight in enumerate(res.highlights):\n",
    "        highlight_text = highlight.highlight\n",
    "        start_time = highlight.start\n",
    "        end_time = highlight.end\n",
    "        \n",
    "        print(f\"  Highlight {i+1}: {highlight_text}\")\n",
    "        print(f\"    Timestamp: {start_time} to {end_time}\")\n",
    "        \n",
    "        # Create a descriptive filename (truncate if too long)\n",
    "        safe_text = \"\".join(c for c in highlight_text if c.isalnum() or c in \" \").strip()\n",
    "        safe_text = safe_text[:30].strip()  # Limit length\n",
    "        output_file = f\"{output_dir}/highlight_{i+1}_{safe_text}.mp4\"\n",
    "        \n",
    "        try:\n",
    "            # Use FFmpeg to trim the video\n",
    "            # -ss: start time, -to: end time, -c:v copy -c:a copy: copy streams without re-encoding\n",
    "            cmd = [\n",
    "                'ffmpeg',\n",
    "                '-i', video_path,\n",
    "                '-ss', str(start_time),\n",
    "                '-to', str(end_time),\n",
    "                '-c:v', 'copy',\n",
    "                '-c:a', 'copy',\n",
    "                output_file,\n",
    "                '-y'  # Overwrite output file if it exists\n",
    "            ]\n",
    "            \n",
    "            subprocess.run(cmd, check=True, capture_output=True)\n",
    "            print(f\"    Saved highlight to: {output_file}\")\n",
    "        except subprocess.CalledProcessError as e:\n",
    "            print(f\"    Error trimming highlight: {e.stderr.decode()}\")\n",
    "        except Exception as e:\n",
    "            print(f\"    Error: {str(e)}\")\n",
    "    \n",
    "    # Generate additional metadata for the video\n",
    "    print(f\"Summary: {client.generate.summarize(video_id=video.id, type='summary').summary}\")\n",
    "    \n",
    "    print(\"Chapters:\")\n",
    "    res = client.generate.summarize(video_id=video.id, type=\"chapter\")\n",
    "    for chapter in res.chapters:\n",
    "        print(\n",
    "            f\"  chapter_number={chapter.chapter_number} chapter_title={chapter.chapter_title} \"\n",
    "            f\"start={chapter.start} end={chapter.end}\"\n",
    "        )\n",
    "    \n",
    "    res = client.generate.text(video_id=video.id, \n",
    "        prompt=\"Based on this video, I want to generate five keywords for SEO (Search Engine Optimization).\")\n",
    "    print(f\"SEO Keywords: {res.data}\")"
   ]
  }
 ],
 "metadata": {
  "kernelspec": {
   "display_name": "synergy",
   "language": "python",
   "name": "python3"
  },
  "language_info": {
   "codemirror_mode": {
    "name": "ipython",
    "version": 3
   },
   "file_extension": ".py",
   "mimetype": "text/x-python",
   "name": "python",
   "nbconvert_exporter": "python",
   "pygments_lexer": "ipython3",
   "version": "3.13.2"
  }
 },
 "nbformat": 4,
 "nbformat_minor": 2
}
